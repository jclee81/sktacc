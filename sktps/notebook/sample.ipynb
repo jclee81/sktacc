{
 "metadata": {
  "name": "",
  "signature": "sha256:1072a3421526f8780cab647d4138cf447c89b73c6e674911eab9a900f27f43ef"
 },
 "nbformat": 3,
 "nbformat_minor": 0,
 "worksheets": [
  {
   "cells": [
    {
     "cell_type": "code",
     "collapsed": false,
     "input": [
      "%%html\n",
      "<style>\n",
      "table {float:left}\n",
      "</style>\n",
      "import os\n",
      "base_path = os.path.abspath(os.path.join(os.getcwd(), '..'))\n",
      "sys.path.append(base_path)"
     ],
     "language": "python",
     "metadata": {},
     "outputs": [
      {
       "html": [
        "<style>\n",
        "table {float:left}\n",
        "</style>\n",
        "import os\n",
        "base_path = os.path.abspath(os.path.join(os.getcwd(), '..'))\n",
        "sys.path.append(base_path)"
       ],
       "metadata": {},
       "output_type": "display_data",
       "text": [
        "<IPython.core.display.HTML at 0x104c23950>"
       ]
      }
     ],
     "prompt_number": 1
    }
   ],
   "metadata": {}
  }
 ]
}