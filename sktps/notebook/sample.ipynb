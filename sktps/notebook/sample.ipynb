{
 "metadata": {
  "name": "",
  "signature": "sha256:a51d9a77d64c4477ee5f208d81eb97b1934c6ce6494a7fdb3d42742b5f30e2f9"
 },
 "nbformat": 3,
 "nbformat_minor": 0,
 "worksheets": [
  {
   "cells": [
    {
     "cell_type": "code",
     "collapsed": false,
     "input": [
      "import os\n",
      "base_path = os.path.abspath(os.path.join(os.getcwd(), '..'))\n",
      "sys.path.append(base_path)"
     ],
     "language": "python",
     "metadata": {},
     "outputs": [],
     "prompt_number": 17
    },
    {
     "cell_type": "code",
     "collapsed": false,
     "input": [],
     "language": "python",
     "metadata": {},
     "outputs": []
    }
   ],
   "metadata": {}
  }
 ]
}